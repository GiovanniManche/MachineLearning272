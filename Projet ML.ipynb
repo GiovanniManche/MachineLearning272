{
 "cells": [
  {
   "cell_type": "markdown",
   "metadata": {},
   "source": [
    "# Machine Learning - Master IEF Parcours Quantitatif\n",
    "## Prediction of Sharpe ratio for blends of quantitative strategies par Napoleon X (2019)\n",
    "### Giovanni MANCHE et Antonin DEVALLAND\n",
    "\n",
    "Lien vers le GitHub du projet : https://github.com/GiovanniManche/MachineLearning272"
   ]
  },
  {
   "cell_type": "markdown",
   "metadata": {},
   "source": [
    "## Table des matières\n",
    "J'arrive pas à la mettre   + faudra suivre l'outline donnée dans Moodle"
   ]
  },
  {
   "cell_type": "markdown",
   "metadata": {},
   "source": [
    "## I/ Sujet"
   ]
  },
  {
   "cell_type": "markdown",
   "metadata": {},
   "source": [
    "L'objectif de ce problème est d'aider à la construction d'un **mélange optimal de stratégies quantitatives d'investissement** à partir d'un ensemble de stratégies. Trouver la meilleure allocation parmi les stratégies quantitatives chaque semaine revient à déterminer la combinaison maximisant le ratio de Sharpe (sur les 5 prochains jours de trading). Avec $Lr_{i,s}$ les rendements logarithmiques d'une stratégie $i$ à un temps $s$, le ratio de Sharpe annualisé objectif est calculé selon la formule suivante (il est légèrement modifié pour éviter une volatilité trop proche de 0) : \n",
    "$$\n",
    "S_t^*(w_1, \\ldots, w_7) = \\frac{\\frac{252}{5} \\sum_{i=1}^{7} w_i \\times \\left( \\sum_{s=t+1}^{t+5} Lr_{i,s} \\right)}{Max \\left( \\sqrt{252 \\times \\sum_{i=1}^{7} \\sum_{j=1}^{7} w_i w_j \\sum_{s=t-20}^{t+5} (Lr_{i,s} - \\bar{Lr_i})(Lr_{j,s} - \\bar{Lr_j})} ; 0.005 \\right)}\n",
    "$$\n",
    "\n",
    "L'enjeu est donc, finalement, de prédire le ratio de Sharpe $S^*$ d'une combinaison donnée de poids et d'optimiser en tenant compte du compromis rendement / volatilité. "
   ]
  },
  {
   "cell_type": "markdown",
   "metadata": {},
   "source": [
    "## Import des bibliothèques nécessaires "
   ]
  },
  {
   "cell_type": "code",
   "execution_count": null,
   "metadata": {},
   "outputs": [],
   "source": [
    "import pandas as pd"
   ]
  },
  {
   "cell_type": "markdown",
   "metadata": {},
   "source": [
    "## Partie I : Récupération et préparation des données"
   ]
  },
  {
   "cell_type": "markdown",
   "metadata": {},
   "source": [
    "Le fichier CSV fournit pour l'entraînement pesait trop lourd (plus de 35 000 Ko, alors que la limite pour déposer les données sur GitHub est de 25 000 Ko). Nous l'avons donc converti en un fichier xlsx., moins lourd, au prix d'un temps d'importation via Python allongé."
   ]
  },
  {
   "cell_type": "code",
   "execution_count": null,
   "metadata": {},
   "outputs": [],
   "source": [
    "train_set: pd.DataFrame = pd.read_excel(\"Data/Train set.xlsx\")\n",
    "test_set: pd.DataFrame = pd.read_csv(\"Data/Test set.csv\")\n",
    "target_values: pd.DataFrame = pd.read_csv(\"Data/Target values.csv\")"
   ]
  },
  {
   "cell_type": "markdown",
   "metadata": {},
   "source": [
    "Nous effectuons quelques vérifications pour s'assurer que le jeu de données est utilisable : \n",
    "- gestion des données manquantes\n",
    "- gestion des données dupliquées\n",
    "- uniformisation des formats de données\n",
    "- gestion des outliers"
   ]
  },
  {
   "cell_type": "markdown",
   "metadata": {},
   "source": [
    "Tout d'abord, on s'assure que les fichiers ne présentent pas de lignes dupliquées."
   ]
  },
  {
   "cell_type": "code",
   "execution_count": null,
   "metadata": {},
   "outputs": [
    {
     "name": "stdout",
     "output_type": "stream",
     "text": [
      "Les dimensions du train set initial sont (10000, 218) et celles du nouveau train set sont de (10000, 218)\n",
      "Les dimensions du train set initial sont (4450, 218) et celles du nouveau train set sont de (4450, 218)\n",
      "Les dimensions du train set initial sont (10000, 2) et celles du nouveau train set sont de (10000, 2)\n"
     ]
    }
   ],
   "source": [
    "print(f\"Les dimensions du train set initial sont {train_set.shape} et celles du nouveau train set sont de {train_set.drop_duplicates().shape}.\")\n",
    "print(f\"Les dimensions du train set initial sont {test_set.shape} et celles du nouveau train set sont de {test_set.drop_duplicates().shape}.\")\n",
    "print(f\"Les dimensions du train set initial sont {target_values.shape} et celles du nouveau train set sont de {target_values.drop_duplicates().shape}.\")"
   ]
  },
  {
   "cell_type": "markdown",
   "metadata": {},
   "source": [
    "Ensuite, on vérifie l'absence de données manquantes."
   ]
  },
  {
   "cell_type": "code",
   "execution_count": 10,
   "metadata": {},
   "outputs": [
    {
     "name": "stdout",
     "output_type": "stream",
     "text": [
      "Le fichier contenant les données d'entraînement contient 0 données manquantes.\n",
      "Le fichier contenant les données de test contient 0 données manquantes.\n",
      "Le fichier contenant les valeurs cibles contient 0 données manquantes.\n"
     ]
    }
   ],
   "source": [
    "print(f\"Le fichier contenant les données d'entraînement contient {train_set.isnull().sum().sum()} données manquantes.\")\n",
    "print(f\"Le fichier contenant les données de test contient {test_set.isnull().sum().sum()} données manquantes.\")\n",
    "print(f\"Le fichier contenant les valeurs cibles contient {target_values.isnull().sum().sum()} données manquantes.\")"
   ]
  },
  {
   "cell_type": "markdown",
   "metadata": {},
   "source": [
    "À toutes fins utiles, on s'assure que nos données sont toutes de type float. En effet, le train set et test set sont composés de valeurs décimales (parts, valeurs des stratégies, valeurs des instruments financiers), il n'y a donc pas de raison qu'elles soient autre chose que de type float."
   ]
  },
  {
   "cell_type": "code",
   "execution_count": 15,
   "metadata": {},
   "outputs": [],
   "source": [
    "train_set = train_set.astype(float)\n",
    "target_values = target_values.astype(float)\n",
    "test_set = test_set.astype(float)"
   ]
  },
  {
   "cell_type": "code",
   "execution_count": 23,
   "metadata": {},
   "outputs": [
    {
     "data": {
      "text/html": [
       "<div>\n",
       "<style scoped>\n",
       "    .dataframe tbody tr th:only-of-type {\n",
       "        vertical-align: middle;\n",
       "    }\n",
       "\n",
       "    .dataframe tbody tr th {\n",
       "        vertical-align: top;\n",
       "    }\n",
       "\n",
       "    .dataframe thead th {\n",
       "        text-align: right;\n",
       "    }\n",
       "</style>\n",
       "<table border=\"1\" class=\"dataframe\">\n",
       "  <thead>\n",
       "    <tr style=\"text-align: right;\">\n",
       "      <th></th>\n",
       "      <th>ID</th>\n",
       "      <th>weight_I_1</th>\n",
       "      <th>weight_I_2</th>\n",
       "      <th>weight_I_3</th>\n",
       "      <th>weight_I_4</th>\n",
       "      <th>weight_I_5</th>\n",
       "      <th>weight_I_6</th>\n",
       "      <th>weight_I_7</th>\n",
       "      <th>I_1_lag_20</th>\n",
       "      <th>I_1_lag_19</th>\n",
       "      <th>...</th>\n",
       "      <th>X_3_lag_9</th>\n",
       "      <th>X_3_lag_8</th>\n",
       "      <th>X_3_lag_7</th>\n",
       "      <th>X_3_lag_6</th>\n",
       "      <th>X_3_lag_5</th>\n",
       "      <th>X_3_lag_4</th>\n",
       "      <th>X_3_lag_3</th>\n",
       "      <th>X_3_lag_2</th>\n",
       "      <th>X_3_lag_1</th>\n",
       "      <th>X_3_lag_0</th>\n",
       "    </tr>\n",
       "  </thead>\n",
       "  <tbody>\n",
       "    <tr>\n",
       "      <th>0</th>\n",
       "      <td>0.0</td>\n",
       "      <td>0.15</td>\n",
       "      <td>0.00</td>\n",
       "      <td>0.05</td>\n",
       "      <td>0.80</td>\n",
       "      <td>0.00</td>\n",
       "      <td>0.00</td>\n",
       "      <td>0.00</td>\n",
       "      <td>100.0</td>\n",
       "      <td>100.047398</td>\n",
       "      <td>...</td>\n",
       "      <td>101.383783</td>\n",
       "      <td>102.054669</td>\n",
       "      <td>102.375596</td>\n",
       "      <td>103.148605</td>\n",
       "      <td>103.148605</td>\n",
       "      <td>103.046483</td>\n",
       "      <td>103.075701</td>\n",
       "      <td>103.134043</td>\n",
       "      <td>103.221509</td>\n",
       "      <td>103.338192</td>\n",
       "    </tr>\n",
       "    <tr>\n",
       "      <th>1</th>\n",
       "      <td>1.0</td>\n",
       "      <td>0.00</td>\n",
       "      <td>0.00</td>\n",
       "      <td>0.00</td>\n",
       "      <td>0.40</td>\n",
       "      <td>0.25</td>\n",
       "      <td>0.00</td>\n",
       "      <td>0.35</td>\n",
       "      <td>100.0</td>\n",
       "      <td>99.912339</td>\n",
       "      <td>...</td>\n",
       "      <td>100.911142</td>\n",
       "      <td>100.938707</td>\n",
       "      <td>100.993926</td>\n",
       "      <td>101.132016</td>\n",
       "      <td>100.745489</td>\n",
       "      <td>100.524617</td>\n",
       "      <td>100.303743</td>\n",
       "      <td>100.276090</td>\n",
       "      <td>100.303743</td>\n",
       "      <td>100.554527</td>\n",
       "    </tr>\n",
       "    <tr>\n",
       "      <th>2</th>\n",
       "      <td>2.0</td>\n",
       "      <td>0.85</td>\n",
       "      <td>0.00</td>\n",
       "      <td>0.00</td>\n",
       "      <td>0.15</td>\n",
       "      <td>0.00</td>\n",
       "      <td>0.00</td>\n",
       "      <td>0.00</td>\n",
       "      <td>100.0</td>\n",
       "      <td>99.481681</td>\n",
       "      <td>...</td>\n",
       "      <td>100.373084</td>\n",
       "      <td>100.581716</td>\n",
       "      <td>100.313489</td>\n",
       "      <td>100.790251</td>\n",
       "      <td>101.013756</td>\n",
       "      <td>100.686030</td>\n",
       "      <td>100.686030</td>\n",
       "      <td>100.060233</td>\n",
       "      <td>99.747384</td>\n",
       "      <td>99.970889</td>\n",
       "    </tr>\n",
       "    <tr>\n",
       "      <th>3</th>\n",
       "      <td>3.0</td>\n",
       "      <td>0.00</td>\n",
       "      <td>0.00</td>\n",
       "      <td>0.70</td>\n",
       "      <td>0.05</td>\n",
       "      <td>0.25</td>\n",
       "      <td>0.00</td>\n",
       "      <td>0.00</td>\n",
       "      <td>100.0</td>\n",
       "      <td>100.124618</td>\n",
       "      <td>...</td>\n",
       "      <td>100.844136</td>\n",
       "      <td>101.040072</td>\n",
       "      <td>101.055122</td>\n",
       "      <td>101.567682</td>\n",
       "      <td>101.703322</td>\n",
       "      <td>101.974603</td>\n",
       "      <td>101.733422</td>\n",
       "      <td>101.838963</td>\n",
       "      <td>102.080144</td>\n",
       "      <td>101.688272</td>\n",
       "    </tr>\n",
       "    <tr>\n",
       "      <th>4</th>\n",
       "      <td>4.0</td>\n",
       "      <td>0.00</td>\n",
       "      <td>0.55</td>\n",
       "      <td>0.05</td>\n",
       "      <td>0.00</td>\n",
       "      <td>0.00</td>\n",
       "      <td>0.00</td>\n",
       "      <td>0.40</td>\n",
       "      <td>100.0</td>\n",
       "      <td>100.000000</td>\n",
       "      <td>...</td>\n",
       "      <td>99.665093</td>\n",
       "      <td>99.482389</td>\n",
       "      <td>99.604192</td>\n",
       "      <td>100.030499</td>\n",
       "      <td>99.847797</td>\n",
       "      <td>100.426310</td>\n",
       "      <td>100.426310</td>\n",
       "      <td>100.822217</td>\n",
       "      <td>100.913521</td>\n",
       "      <td>100.852619</td>\n",
       "    </tr>\n",
       "    <tr>\n",
       "      <th>...</th>\n",
       "      <td>...</td>\n",
       "      <td>...</td>\n",
       "      <td>...</td>\n",
       "      <td>...</td>\n",
       "      <td>...</td>\n",
       "      <td>...</td>\n",
       "      <td>...</td>\n",
       "      <td>...</td>\n",
       "      <td>...</td>\n",
       "      <td>...</td>\n",
       "      <td>...</td>\n",
       "      <td>...</td>\n",
       "      <td>...</td>\n",
       "      <td>...</td>\n",
       "      <td>...</td>\n",
       "      <td>...</td>\n",
       "      <td>...</td>\n",
       "      <td>...</td>\n",
       "      <td>...</td>\n",
       "      <td>...</td>\n",
       "      <td>...</td>\n",
       "    </tr>\n",
       "    <tr>\n",
       "      <th>9995</th>\n",
       "      <td>9995.0</td>\n",
       "      <td>0.50</td>\n",
       "      <td>0.00</td>\n",
       "      <td>0.00</td>\n",
       "      <td>0.45</td>\n",
       "      <td>0.00</td>\n",
       "      <td>0.00</td>\n",
       "      <td>0.05</td>\n",
       "      <td>100.0</td>\n",
       "      <td>100.133669</td>\n",
       "      <td>...</td>\n",
       "      <td>100.912980</td>\n",
       "      <td>101.768901</td>\n",
       "      <td>101.825961</td>\n",
       "      <td>102.282452</td>\n",
       "      <td>103.280979</td>\n",
       "      <td>102.738943</td>\n",
       "      <td>102.510698</td>\n",
       "      <td>102.596243</td>\n",
       "      <td>103.280979</td>\n",
       "      <td>103.223917</td>\n",
       "    </tr>\n",
       "    <tr>\n",
       "      <th>9996</th>\n",
       "      <td>9996.0</td>\n",
       "      <td>0.50</td>\n",
       "      <td>0.00</td>\n",
       "      <td>0.15</td>\n",
       "      <td>0.35</td>\n",
       "      <td>0.00</td>\n",
       "      <td>0.00</td>\n",
       "      <td>0.00</td>\n",
       "      <td>100.0</td>\n",
       "      <td>100.830429</td>\n",
       "      <td>...</td>\n",
       "      <td>101.541742</td>\n",
       "      <td>101.197305</td>\n",
       "      <td>101.771363</td>\n",
       "      <td>102.345411</td>\n",
       "      <td>102.657045</td>\n",
       "      <td>102.919468</td>\n",
       "      <td>102.804653</td>\n",
       "      <td>102.870260</td>\n",
       "      <td>102.952272</td>\n",
       "      <td>102.870260</td>\n",
       "    </tr>\n",
       "    <tr>\n",
       "      <th>9997</th>\n",
       "      <td>9997.0</td>\n",
       "      <td>0.10</td>\n",
       "      <td>0.00</td>\n",
       "      <td>0.00</td>\n",
       "      <td>0.00</td>\n",
       "      <td>0.00</td>\n",
       "      <td>0.65</td>\n",
       "      <td>0.25</td>\n",
       "      <td>100.0</td>\n",
       "      <td>100.000000</td>\n",
       "      <td>...</td>\n",
       "      <td>98.496241</td>\n",
       "      <td>98.527571</td>\n",
       "      <td>97.744362</td>\n",
       "      <td>98.088972</td>\n",
       "      <td>98.057644</td>\n",
       "      <td>98.214286</td>\n",
       "      <td>97.525063</td>\n",
       "      <td>97.274436</td>\n",
       "      <td>96.773184</td>\n",
       "      <td>96.804512</td>\n",
       "    </tr>\n",
       "    <tr>\n",
       "      <th>9998</th>\n",
       "      <td>9998.0</td>\n",
       "      <td>0.00</td>\n",
       "      <td>0.00</td>\n",
       "      <td>0.00</td>\n",
       "      <td>0.15</td>\n",
       "      <td>0.15</td>\n",
       "      <td>0.00</td>\n",
       "      <td>0.70</td>\n",
       "      <td>100.0</td>\n",
       "      <td>99.985526</td>\n",
       "      <td>...</td>\n",
       "      <td>102.002301</td>\n",
       "      <td>102.017204</td>\n",
       "      <td>102.402799</td>\n",
       "      <td>102.210001</td>\n",
       "      <td>102.106150</td>\n",
       "      <td>101.438717</td>\n",
       "      <td>101.928162</td>\n",
       "      <td>102.032013</td>\n",
       "      <td>102.076533</td>\n",
       "      <td>102.402799</td>\n",
       "    </tr>\n",
       "    <tr>\n",
       "      <th>9999</th>\n",
       "      <td>9999.0</td>\n",
       "      <td>0.20</td>\n",
       "      <td>0.00</td>\n",
       "      <td>0.00</td>\n",
       "      <td>0.55</td>\n",
       "      <td>0.00</td>\n",
       "      <td>0.00</td>\n",
       "      <td>0.25</td>\n",
       "      <td>100.0</td>\n",
       "      <td>100.429346</td>\n",
       "      <td>...</td>\n",
       "      <td>99.154583</td>\n",
       "      <td>99.097269</td>\n",
       "      <td>99.039954</td>\n",
       "      <td>99.426852</td>\n",
       "      <td>99.899676</td>\n",
       "      <td>100.616156</td>\n",
       "      <td>100.372499</td>\n",
       "      <td>100.558841</td>\n",
       "      <td>100.673471</td>\n",
       "      <td>101.017359</td>\n",
       "    </tr>\n",
       "  </tbody>\n",
       "</table>\n",
       "<p>10000 rows × 218 columns</p>\n",
       "</div>"
      ],
      "text/plain": [
       "          ID  weight_I_1  weight_I_2  weight_I_3  weight_I_4  weight_I_5  \\\n",
       "0        0.0        0.15        0.00        0.05        0.80        0.00   \n",
       "1        1.0        0.00        0.00        0.00        0.40        0.25   \n",
       "2        2.0        0.85        0.00        0.00        0.15        0.00   \n",
       "3        3.0        0.00        0.00        0.70        0.05        0.25   \n",
       "4        4.0        0.00        0.55        0.05        0.00        0.00   \n",
       "...      ...         ...         ...         ...         ...         ...   \n",
       "9995  9995.0        0.50        0.00        0.00        0.45        0.00   \n",
       "9996  9996.0        0.50        0.00        0.15        0.35        0.00   \n",
       "9997  9997.0        0.10        0.00        0.00        0.00        0.00   \n",
       "9998  9998.0        0.00        0.00        0.00        0.15        0.15   \n",
       "9999  9999.0        0.20        0.00        0.00        0.55        0.00   \n",
       "\n",
       "      weight_I_6  weight_I_7  I_1_lag_20  I_1_lag_19  ...   X_3_lag_9  \\\n",
       "0           0.00        0.00       100.0  100.047398  ...  101.383783   \n",
       "1           0.00        0.35       100.0   99.912339  ...  100.911142   \n",
       "2           0.00        0.00       100.0   99.481681  ...  100.373084   \n",
       "3           0.00        0.00       100.0  100.124618  ...  100.844136   \n",
       "4           0.00        0.40       100.0  100.000000  ...   99.665093   \n",
       "...          ...         ...         ...         ...  ...         ...   \n",
       "9995        0.00        0.05       100.0  100.133669  ...  100.912980   \n",
       "9996        0.00        0.00       100.0  100.830429  ...  101.541742   \n",
       "9997        0.65        0.25       100.0  100.000000  ...   98.496241   \n",
       "9998        0.00        0.70       100.0   99.985526  ...  102.002301   \n",
       "9999        0.00        0.25       100.0  100.429346  ...   99.154583   \n",
       "\n",
       "       X_3_lag_8   X_3_lag_7   X_3_lag_6   X_3_lag_5   X_3_lag_4   X_3_lag_3  \\\n",
       "0     102.054669  102.375596  103.148605  103.148605  103.046483  103.075701   \n",
       "1     100.938707  100.993926  101.132016  100.745489  100.524617  100.303743   \n",
       "2     100.581716  100.313489  100.790251  101.013756  100.686030  100.686030   \n",
       "3     101.040072  101.055122  101.567682  101.703322  101.974603  101.733422   \n",
       "4      99.482389   99.604192  100.030499   99.847797  100.426310  100.426310   \n",
       "...          ...         ...         ...         ...         ...         ...   \n",
       "9995  101.768901  101.825961  102.282452  103.280979  102.738943  102.510698   \n",
       "9996  101.197305  101.771363  102.345411  102.657045  102.919468  102.804653   \n",
       "9997   98.527571   97.744362   98.088972   98.057644   98.214286   97.525063   \n",
       "9998  102.017204  102.402799  102.210001  102.106150  101.438717  101.928162   \n",
       "9999   99.097269   99.039954   99.426852   99.899676  100.616156  100.372499   \n",
       "\n",
       "       X_3_lag_2   X_3_lag_1   X_3_lag_0  \n",
       "0     103.134043  103.221509  103.338192  \n",
       "1     100.276090  100.303743  100.554527  \n",
       "2     100.060233   99.747384   99.970889  \n",
       "3     101.838963  102.080144  101.688272  \n",
       "4     100.822217  100.913521  100.852619  \n",
       "...          ...         ...         ...  \n",
       "9995  102.596243  103.280979  103.223917  \n",
       "9996  102.870260  102.952272  102.870260  \n",
       "9997   97.274436   96.773184   96.804512  \n",
       "9998  102.032013  102.076533  102.402799  \n",
       "9999  100.558841  100.673471  101.017359  \n",
       "\n",
       "[10000 rows x 218 columns]"
      ]
     },
     "execution_count": 23,
     "metadata": {},
     "output_type": "execute_result"
    }
   ],
   "source": [
    "train_set"
   ]
  },
  {
   "cell_type": "markdown",
   "metadata": {},
   "source": [
    "On peut désormais faire quelques vérifications sur les valeurs : \n",
    "- les valeurs des parts doivent être comprises entre 0 et 1 (répartition de l'AUM entre différentes stratégies)\n",
    "- la somme des parts doit être égale à 1 (tolérance de $10^{-4}$)\n",
    "- les valeurs initiales des stratégies et des instruments financiers doivent être égales à 100 (initialisation)\n"
   ]
  },
  {
   "cell_type": "code",
   "execution_count": null,
   "metadata": {},
   "outputs": [
    {
     "name": "stdout",
     "output_type": "stream",
     "text": [
      "Dans le set d'entraînement, 0 samples présentent de poids supérieurs à 1 ou inférieurs à 0\n",
      "Dans le set d'entraînement, 0 samples ont une somme totale de poids différents de 1\n",
      "Dans le set de test, 0 samples présentent de poids supérieurs à 1 ou inférieurs à 0\n",
      "Dans le set de test, 0 samples ont une somme totale de poids différents de 1\n"
     ]
    }
   ],
   "source": [
    "# Tests sur les poids\n",
    "weights_train = train_set.iloc[:,1:8]\n",
    "weights_test = test_set.iloc[:, 1:8]\n",
    "# Ensemble d'entraînement\n",
    "print(f\"Dans le set d'entraînement, {((weights_train < 0) | (weights_train > 1)).sum().sum()} samples présentent de poids supérieurs à 1 ou inférieurs à 0\")\n",
    "print(f\"Dans le set d'entraînement, {abs((weights_train.sum(axis=1) - 1)> 0.0001).sum()} samples ont une somme totale de poids différents de 1\")\n",
    "# Ensemble de test\n",
    "print(f\"Dans le set de test, {((weights_test < 0) | (weights_test > 1)).sum().sum()} samples présentent de poids supérieurs à 1 ou inférieurs à 0\")\n",
    "print(f\"Dans le set de test, {abs((weights_test.sum(axis=1) - 1)> 0.0001).sum()} samples ont une somme totale de poids différents de 1\")\n"
   ]
  },
  {
   "cell_type": "code",
   "execution_count": 64,
   "metadata": {},
   "outputs": [
    {
     "name": "stdout",
     "output_type": "stream",
     "text": [
      "Dans le set d'entraînement, 0 samples présentent des valeurs initiales de portefeuilles ou d'instruments différentes de 100\n",
      "Dans le set de test, 0 samples présentent des valeurs initiales de portefeuilles ou d'instruments différentes de 100\n"
     ]
    }
   ],
   "source": [
    "# Tests sur les valeurs initiales\n",
    "init_train = train_set.filter(like = 'lag_20')\n",
    "init_test = test_set.filter(like = 'lag_20')\n",
    "print(f\"Dans le set d'entraînement, {((init_train != 100)).sum().sum()} samples présentent des valeurs initiales de portefeuilles ou d'instruments différentes de 100\")\n",
    "print(f\"Dans le set de test, {((init_test != 100)).sum().sum()} samples présentent des valeurs initiales de portefeuilles ou d'instruments différentes de 100\")"
   ]
  },
  {
   "cell_type": "markdown",
   "metadata": {},
   "source": [
    "## Analyse exploratoire"
   ]
  }
 ],
 "metadata": {
  "kernelspec": {
   "display_name": "base",
   "language": "python",
   "name": "python3"
  },
  "language_info": {
   "codemirror_mode": {
    "name": "ipython",
    "version": 3
   },
   "file_extension": ".py",
   "mimetype": "text/x-python",
   "name": "python",
   "nbconvert_exporter": "python",
   "pygments_lexer": "ipython3",
   "version": "3.12.4"
  }
 },
 "nbformat": 4,
 "nbformat_minor": 2
}
